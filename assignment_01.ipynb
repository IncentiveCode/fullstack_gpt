{
 "cells": [
  {
   "cell_type": "code",
   "execution_count": null,
   "metadata": {},
   "outputs": [
    {
     "name": "stdout",
     "output_type": "stream",
     "text": [
      "한 줄 한 줄 느리게 흘러가는 C#,\n",
      "객체지향의 아름다움이 깃든 언어야.\n",
      "타입 안정성과 안정성을 추구하는데,\n",
      "단점은 성능이 느릴 수 있다는 게.\n",
      "\n",
      "LINQ와 async-await으로 편리한 개발,\n",
      "윈도우 어플리케이션을 만들기에 안성맞춤.\n",
      "하지만 크로스 플랫폼은 아쉬움이 남아,\n",
      "단점을 극복하기 위해 노력하는 중이야.\n",
      "\n",
      "C#이여, 당신은 우아한 프로그래밍의 예술,\n",
      "개발자들의 사랑을 한 몸에 받는 언어야.주어진 시는 C# 프로그래밍 언어에 대한 내용을 담고 있습니다. 시인은 C#의 장단점과 특징을 간결하게 표현하면서도 그 언어에 대한 애정을 드러내고 있습니다.\n",
      "\n",
      "시의 첫 부분에서는 C#이 한 줄 한 줄 느리게 흘러가는 언어라는 특징을 언급하면서도, 객체지향의 아름다움과 타입 안정성을 강조하고 있습니다. 또한 성능이 느릴 수 있다는 단점을 언급하면서도, LINQ와 async-await을 통해 편리한 개발이 가능하다는 점을 강조하고 있습니다.\n",
      "\n",
      "두 번째 부분에서는 C#이 윈도우 어플리케이션을 만들기에 안성맞춤이라는 장점을 소개하고 있습니다. 그러나 크로스 플랫폼에서는 아쉬움이 남는다는 점을 언급하면서도, 이를 극복하기 위해 노력하고 있다는 점을 강조하고 있습니다.\n",
      "\n",
      "마지막으로 시인은 C#을 \"우아한 프로그래밍의 예술\"이라고 표현하며, 개발자들의 사랑을 받는 언어로 묘사하고 있습니다. 이를 통해 C#에 대한 애정과 존경을 드러내고 있습니다."
     ]
    },
    {
     "data": {
      "text/plain": [
       "AIMessageChunk(content='주어진 시는 C# 프로그래밍 언어에 대한 내용을 담고 있습니다. 시인은 C#의 장단점과 특징을 간결하게 표현하면서도 그 언어에 대한 애정을 드러내고 있습니다.\\n\\n시의 첫 부분에서는 C#이 한 줄 한 줄 느리게 흘러가는 언어라는 특징을 언급하면서도, 객체지향의 아름다움과 타입 안정성을 강조하고 있습니다. 또한 성능이 느릴 수 있다는 단점을 언급하면서도, LINQ와 async-await을 통해 편리한 개발이 가능하다는 점을 강조하고 있습니다.\\n\\n두 번째 부분에서는 C#이 윈도우 어플리케이션을 만들기에 안성맞춤이라는 장점을 소개하고 있습니다. 그러나 크로스 플랫폼에서는 아쉬움이 남는다는 점을 언급하면서도, 이를 극복하기 위해 노력하고 있다는 점을 강조하고 있습니다.\\n\\n마지막으로 시인은 C#을 \"우아한 프로그래밍의 예술\"이라고 표현하며, 개발자들의 사랑을 받는 언어로 묘사하고 있습니다. 이를 통해 C#에 대한 애정과 존경을 드러내고 있습니다.')"
      ]
     },
     "execution_count": 2,
     "metadata": {},
     "output_type": "execute_result"
    }
   ],
   "source": [
    "from langchain.chat_models import ChatOpenAI\n",
    "from langchain.prompts import ChatPromptTemplate\n",
    "from langchain.callbacks import StreamingStdOutCallbackHandler\n",
    "\n",
    "chat = ChatOpenAI(\n",
    "\tmodel=\"gpt-3.5-turbo\",\n",
    "\ttemperature=0.1, \n",
    "\tstreaming=True,\n",
    "\tcallbacks=[\n",
    "\t\tStreamingStdOutCallbackHandler()\n",
    "\t]\n",
    ")\n",
    "\n",
    "write_prompt = ChatPromptTemplate.from_messages([\n",
    "\t(\n",
    "\t\t\"system\",\n",
    "\t\t\"당신은 프로그래밍 언어에 대한 시를 작성하는 전문가입니다. 어떤 프로그래밍 언어가 주어지더라도 그 언어가 가진 특징, 장점, 단점을 토대로 시를 작성할 수 있습니다.\"\n",
    "\t),\n",
    "\t(\n",
    "\t\t\"human\",\n",
    "\t\t\"{language} 를 주제로 한 시를 작성해 줘.\"\n",
    "\t),\n",
    "])\n",
    "write_chain = write_prompt | chat\n",
    "\n",
    "explain_prompt = ChatPromptTemplate.from_messages([\n",
    "\t(\n",
    "\t\t\"system\",\n",
    "\t\t\"당신은 시를 해석하고 설명하는 분야의 전문가입니다. 어떤 시가 주어지더라도 그 시의 주제, 특징, 독자에게 전하고 싶은 말을 파악할 수 있습니다.\"\n",
    "\t),\n",
    "\t(\n",
    "\t\t\"human\",\n",
    "\t\t\"{haikus}\"\n",
    "\t),\n",
    "])\n",
    "explain_chain = explain_prompt | chat\n",
    "\n",
    "final_chain = {\"haikus\": write_chain} | explain_chain\n",
    "final_chain.invoke({\n",
    "\t\"language\" : \"C#\"\n",
    "})"
   ]
  }
 ],
 "metadata": {
  "kernelspec": {
   "display_name": "env",
   "language": "python",
   "name": "python3"
  },
  "language_info": {
   "codemirror_mode": {
    "name": "ipython",
    "version": 3
   },
   "file_extension": ".py",
   "mimetype": "text/x-python",
   "name": "python",
   "nbconvert_exporter": "python",
   "pygments_lexer": "ipython3",
   "version": "3.11.11"
  }
 },
 "nbformat": 4,
 "nbformat_minor": 2
}
