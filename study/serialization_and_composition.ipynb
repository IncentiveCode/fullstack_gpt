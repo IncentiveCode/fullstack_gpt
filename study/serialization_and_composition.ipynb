{
 "cells": [
  {
   "cell_type": "code",
   "execution_count": 3,
   "metadata": {},
   "outputs": [
    {
     "name": "stdout",
     "output_type": "stream",
     "text": [
      "Arrrg! Me favorite food be a hearty stew made with fresh seafood and plenty of spices! Aye, nothing beats a good meal after a long day of pillaging and plundering on the high seas!"
     ]
    },
    {
     "data": {
      "text/plain": [
       "AIMessageChunk(content='Arrrg! Me favorite food be a hearty stew made with fresh seafood and plenty of spices! Aye, nothing beats a good meal after a long day of pillaging and plundering on the high seas!')"
      ]
     },
     "execution_count": 3,
     "metadata": {},
     "output_type": "execute_result"
    }
   ],
   "source": [
    "from langchain.chat_models import ChatOpenAI\n",
    "from langchain.callbacks import StreamingStdOutCallbackHandler\n",
    "# from langchain.prompts import load_prompt\n",
    "from langchain.prompts import PromptTemplate\n",
    "from langchain.prompts.pipeline import PipelinePromptTemplate\n",
    "\n",
    "# load prompt\n",
    "# prompt = load_prompt(\"./prompt.json\")\n",
    "# prompt = load_prompt(\"./prompt.yaml\")\n",
    "# prompt.format(country=\"Germany\")\n",
    "\n",
    "chat = ChatOpenAI(\n",
    "\ttemperature=0.1,\n",
    "\tstreaming=True,\n",
    "\tcallbacks=[ \n",
    "\t\tStreamingStdOutCallbackHandler() \n",
    "\t]\n",
    ")\n",
    "\n",
    "intro = PromptTemplate.from_template(\n",
    "    \"\"\"\n",
    "    You are a role playing assistant.\n",
    "    And you are impersonating a {character}\n",
    "\"\"\"\n",
    ")\n",
    "\n",
    "example = PromptTemplate.from_template(\n",
    "    \"\"\"\n",
    "    This is an example of how you talk:\n",
    "\n",
    "    Human: {example_question}\n",
    "    You: {example_answer}\n",
    "\"\"\"\n",
    ")\n",
    "\n",
    "start = PromptTemplate.from_template(\n",
    "    \"\"\"\n",
    "    Start now!\n",
    "\n",
    "    Human: {question}\n",
    "    You:\n",
    "\"\"\"\n",
    ")\n",
    "\n",
    "final = PromptTemplate.from_template(\n",
    "    \"\"\"\n",
    "    {intro}\n",
    "                                     \n",
    "    {example}\n",
    "                              \n",
    "    {start}\n",
    "\"\"\"\n",
    ")\n",
    "\n",
    "prompts = [\n",
    "\t(\"intro\", intro),\n",
    "\t(\"example\", example),\n",
    "\t(\"start\", start),\n",
    "]\n",
    "\n",
    "full_prompt = PipelinePromptTemplate(\n",
    "\tfinal_prompt=final, \n",
    "\tpipeline_prompts=prompts\n",
    ")\n",
    "\n",
    "chain = full_prompt | chat\n",
    "chain.invoke({\n",
    "\t\"character\": \"Pirate\",\n",
    "\t\"example_question\": \"What is your location?\",\n",
    "\t\"example_answer\": \"Arrrg! That is a secret !!!\",\n",
    "\t\"question\": \"What is your fav food?\"\n",
    "})"
   ]
  },
  {
   "cell_type": "code",
   "execution_count": 10,
   "metadata": {},
   "outputs": [
    {
     "name": "stderr",
     "output_type": "stream",
     "text": [
      "/Users/code/Documents/study_nomad/fullstack_gpt/env/lib/python3.11/site-packages/langchain/llms/openai.py:216: UserWarning: You are trying to use a chat model. This way of initializing it is no longer supported. Instead, please use: `from langchain.chat_models import ChatOpenAI`\n",
      "  warnings.warn(\n",
      "/Users/code/Documents/study_nomad/fullstack_gpt/env/lib/python3.11/site-packages/langchain/llms/openai.py:811: UserWarning: You are trying to use a chat model. This way of initializing it is no longer supported. Instead, please use: `from langchain.chat_models import ChatOpenAI`\n",
      "  warnings.warn(\n"
     ]
    },
    {
     "data": {
      "text/plain": [
       "OpenAIChat(client=<class 'openai.api_resources.chat_completion.ChatCompletion'>, model_name='gpt-3.5-turbo-16k', model_kwargs={'temperature': 0.1, 'max_tokens': 450, 'top_p': 1, 'frequency_penalty': 0, 'presence_penalty': 0, 'n': 1, 'request_timeout': None, 'logit_bias': {}})"
      ]
     },
     "execution_count": 10,
     "metadata": {},
     "output_type": "execute_result"
    }
   ],
   "source": [
    "from langchain.chat_models import ChatOpenAI\n",
    "from langchain.llms.openai import OpenAI\n",
    "# from langchain.callbacks import get_openai_callback\n",
    "from langchain.llms.loading import load_llm\n",
    "\n",
    "chat = ChatOpenAI(\n",
    "\ttemperature=0.1,\n",
    ")\n",
    "\n",
    "# get_openai_callback\n",
    "\"\"\"\n",
    "with get_openai_callback() as usage:\n",
    "\ta = chat.predict(\"What is the recipe for soju\")\n",
    "\tb = chat.predict(\"What is the recipe for bread\")\n",
    "\tprint(a, b, \"\\n\")\n",
    "\tprint(usage)\n",
    "\"\"\"\n",
    "\n",
    "# save\n",
    "\"\"\"\n",
    "open_ai = OpenAI(\n",
    "\ttemperature=0.1,\n",
    "\tmax_tokens=450,\n",
    "\tmodel=\"gpt-3.5-turbo-16k\",\n",
    ")\n",
    "open_ai.save(\"model.json\")\n",
    "\"\"\"\n",
    "\n",
    "# load\n",
    "open_ai = load_llm(\"model.json\")\n",
    "open_ai\n"
   ]
  }
 ],
 "metadata": {
  "kernelspec": {
   "display_name": "env",
   "language": "python",
   "name": "python3"
  },
  "language_info": {
   "codemirror_mode": {
    "name": "ipython",
    "version": 3
   },
   "file_extension": ".py",
   "mimetype": "text/x-python",
   "name": "python",
   "nbconvert_exporter": "python",
   "pygments_lexer": "ipython3",
   "version": "3.11.11"
  }
 },
 "nbformat": 4,
 "nbformat_minor": 2
}
