{
 "cells": [
  {
   "cell_type": "code",
   "execution_count": null,
   "id": "418d3a06",
   "metadata": {},
   "outputs": [],
   "source": [
    "from langchain.document_loaders import UnstructuredFileLoader\n",
    "from langchain.text_splitter import RecursiveCharacterTextSplitter, CharacterTextSplitter\n",
    "# from langchain.storage import LocalFileStore\n",
    "\n",
    "# cache_dir = LocalFileStore(\"./.cache/\")\n",
    "loader = UnstructuredFileLoader(\"../files/chapter_three.txt\");\n",
    "# loader.load()"
   ]
  },
  {
   "cell_type": "code",
   "execution_count": null,
   "id": "97becc90",
   "metadata": {},
   "outputs": [],
   "source": [
    "# RecursiveCharacterTextSplitter \n",
    "\n",
    "# splitter = RecursiveCharacterTextSplitter();\n",
    "splitter = RecursiveCharacterTextSplitter(chunk_size=200, chunk_overlap=50);\n",
    "\n",
    "# len(loader.load_and_split(text_splitter=splitter))\n",
    "loader.load_and_split(text_splitter=splitter)"
   ]
  },
  {
   "cell_type": "code",
   "execution_count": null,
   "id": "888a9f64",
   "metadata": {},
   "outputs": [],
   "source": [
    "# CharacterTextSplitter\n",
    "\n",
    "splitter2 = CharacterTextSplitter(separator=\"\\n\")\n",
    "splitter2._chunk_size = 600\n",
    "splitter2._chunk_overlap = 100\n",
    "\n",
    "# len(loader.load_and_split(text_splitter=splitter2))\n",
    "loader.load_and_split(text_splitter=splitter2)"
   ]
  },
  {
   "cell_type": "code",
   "execution_count": null,
   "id": "4b11b4a5",
   "metadata": {},
   "outputs": [],
   "source": [
    "# tiktoken\n",
    "\n",
    "splitter3 = CharacterTextSplitter.from_tiktoken_encoder(separator=\"\\n\")\n",
    "splitter3._chunk_size = 600\n",
    "splitter3._chunk_overlap = 100\n",
    "\n",
    "# len(loader.load_and_split(text_splitter=splitter3))\n",
    "loader.load_and_split(text_splitter=splitter3)"
   ]
  },
  {
   "cell_type": "code",
   "execution_count": null,
   "id": "172c6cc5",
   "metadata": {},
   "outputs": [],
   "source": [
    "# embedding\n",
    "\n",
    "from langchain.embeddings import OpenAIEmbeddings\n",
    "\n",
    "embedder = OpenAIEmbeddings()\n",
    "# embedder.embed_query(\"hi\")\n",
    "vector = embedder.embed_documents([\"hi\", \"how\", \"are\", \"you and what is your name\"])\n",
    "\n",
    "# len(vector)\n",
    "len(vector[0])\n",
    "# vector"
   ]
  },
  {
   "cell_type": "code",
   "execution_count": null,
   "id": "36b7a2e9",
   "metadata": {},
   "outputs": [],
   "source": [
    "# vector store\n",
    "\n",
    "from langchain.document_loaders import UnstructuredFileLoader\n",
    "from langchain.text_splitter import CharacterTextSplitter\n",
    "from langchain.vectorstores import Chroma\n",
    "from langchain.embeddings import OpenAIEmbeddings\n",
    "\n",
    "loader2 = UnstructuredFileLoader(\"../files/chapter_three.txt\");\n",
    "\n",
    "splitter4 = CharacterTextSplitter.from_tiktoken_encoder(separator=\"\\n\")\n",
    "splitter4._chunk_size = 600\n",
    "splitter4._chunk_overlap = 100\n",
    "\n",
    "docs = loader2.load_and_split(text_splitter=splitter4)\n",
    "embeddings = OpenAIEmbeddings()\n",
    "vectorstore = Chroma.from_documents(documents=docs, embedding=embeddings)"
   ]
  },
  {
   "cell_type": "code",
   "execution_count": null,
   "id": "1de9d110",
   "metadata": {},
   "outputs": [],
   "source": [
    "# result = vectorstore.similarity_search(\"where does winston live?\")\n",
    "# len(result)\n",
    "# result\n",
    "\n",
    "from langchain.embeddings import CacheBackedEmbeddings\n",
    "from langchain.storage import LocalFileStore\n",
    "\n",
    "cache_dir = LocalFileStore(\"../.cache/\")\n",
    "cache_embeddings = CacheBackedEmbeddings.from_bytes_store(\n",
    "\tembeddings, cache_dir\n",
    ")\n",
    "\n",
    "vectorstore = Chroma.from_documents(documents=docs, embedding=cache_embeddings)"
   ]
  },
  {
   "cell_type": "code",
   "execution_count": null,
   "id": "ef9ada40",
   "metadata": {},
   "outputs": [
    {
     "data": {
      "text/plain": [
       "'Winston lives in Oceania, which is a totalitarian state in George Orwell\\'s novel \"1984.\" He resides in a city under constant surveillance by the government, with telescreens in every building, including his apartment.'"
      ]
     },
     "execution_count": 8,
     "metadata": {},
     "output_type": "execute_result"
    }
   ],
   "source": [
    "from langchain.chat_models import ChatOpenAI\n",
    "from langchain.chains import RetrievalQA\n",
    "\n",
    "# stuff\n",
    "llm = ChatOpenAI()\n",
    "chain = RetrievalQA.from_chain_type(\n",
    "\tllm=llm,\n",
    "\tchain_type=\"stuff\",\n",
    "\tretriever=vectorstore.as_retriever(),\n",
    ")\n",
    "\n",
    "chain.run(\"where does winston live?\")"
   ]
  },
  {
   "cell_type": "code",
   "execution_count": 9,
   "id": "1dfb20d6",
   "metadata": {},
   "outputs": [
    {
     "data": {
      "text/plain": [
       "'The additional context provided from the novel \"1984\" by George Orwell sheds light on Winston\\'s current living situation. After being released from the Ministry of Love, Winston lives in a state of despair and degradation. He frequents a café where the staff cater to his every need and provide him with alcohol and a chessboard. Despite his physical decline and the constant surveillance of the Party, Winston finds solace in the belief that \"White always mates,\" symbolizing the eternal triumph of Good over Evil.\\n\\nIn conclusion, Winston lives in a state of physical and emotional deterioration, surrounded by the oppressive presence of the Party and its surveillance. His daily routine at the café reflects his resignation to the Party\\'s control and his attempts to find some semblance of normalcy in a world dominated by fear and oppression.'"
      ]
     },
     "execution_count": 9,
     "metadata": {},
     "output_type": "execute_result"
    }
   ],
   "source": [
    "# refine\n",
    "chain_refine = RetrievalQA.from_chain_type(\n",
    "\tllm=llm,\n",
    "\tchain_type=\"refine\",\n",
    "\tretriever=vectorstore.as_retriever(),\n",
    ")\n",
    "\n",
    "chain_refine.run(\"where does winstone live?\")"
   ]
  }
 ],
 "metadata": {
  "kernelspec": {
   "display_name": "env",
   "language": "python",
   "name": "python3"
  },
  "language_info": {
   "codemirror_mode": {
    "name": "ipython",
    "version": 3
   },
   "file_extension": ".py",
   "mimetype": "text/x-python",
   "name": "python",
   "nbconvert_exporter": "python",
   "pygments_lexer": "ipython3",
   "version": "3.11.11"
  }
 },
 "nbformat": 4,
 "nbformat_minor": 5
}
