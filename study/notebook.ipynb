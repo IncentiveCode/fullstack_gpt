{
 "cells": [
  {
   "cell_type": "code",
   "execution_count": null,
   "metadata": {},
   "outputs": [],
   "source": [
    "from langchain.chat_models import ChatOpenAI\n",
    "from langchain.prompts import PromptTemplate, ChatPromptTemplate\n",
    "from langchain.callbacks import StreamingStdOutCallbackHandler\n",
    "\n",
    "chat = ChatOpenAI(\n",
    "\ttemperature=0.1, \n",
    "\tstreaming=True,\n",
    "\tcallbacks=[\n",
    "\t\tStreamingStdOutCallbackHandler()\n",
    "\t]\n",
    ")\n",
    "\n",
    "template = PromptTemplate.from_template(\"What is the distance between {country_a} and {country_b}?\",)\n",
    "prompt = template.format(country_a=\"Mexico\", country_b=\"Thailand\")\n",
    "chat.predict(prompt)"
   ]
  },
  {
   "cell_type": "code",
   "execution_count": null,
   "metadata": {},
   "outputs": [],
   "source": [
    "template2 = ChatPromptTemplate.from_messages(\n",
    "\t[\n",
    "\t\t(\"system\", \"You are a geography expert. And you only reply in {language}.\"),\n",
    "\t\t(\"ai\", \"Ciao, mi chiamo {name}!\"),\n",
    "\t\t(\"human\", \"What is the distance between {country_a} and {country_b}. Also, what is your name?\"),\n",
    "\t]\n",
    ")\n",
    "\n",
    "prompt2 = template2.format_messages(\n",
    "\tlanguage=\"Greek\",\n",
    "\tname=\"Socrates\",\n",
    "\tcountry_a=\"Mexico\",\n",
    "\tcountry_b=\"Thailand\",\n",
    ")\n",
    "\n",
    "prompt2\n",
    "chat.predict_messages(prompt2)"
   ]
  },
  {
   "cell_type": "code",
   "execution_count": null,
   "metadata": {},
   "outputs": [],
   "source": [
    "from langchain.schema import BaseOutputParser\n",
    "\n",
    "class CommaOutputParser(BaseOutputParser):\n",
    "\t\n",
    "\tdef parse(self, text):\n",
    "\t\titems = text.strip().split(\",\")\n",
    "\t\treturn list(map(str.strip, items))\n",
    "\n",
    "\n",
    "p = CommaOutputParser()\n",
    "p.parse(\"Hello, how, are, you?\")"
   ]
  },
  {
   "cell_type": "code",
   "execution_count": null,
   "metadata": {},
   "outputs": [],
   "source": [
    "# bad request\n",
    "\n",
    "template3 = ChatPromptTemplate.from_messages(\n",
    "\t[\n",
    "\t\t(\n",
    "\t\t\t\"system\", \n",
    "\t\t\t\"You are a list generating machine. Everything you are asked will be answered with a comma separated list of max {max_items} in lowercase. Do NOT reply with anything else.\"\n",
    "\t\t),\n",
    "\t\t(\n",
    "\t\t\t\"human\",\n",
    "\t\t\t\"{question}\",\n",
    "\t\t),\n",
    "\t]\n",
    ")\n",
    "\n",
    "prompt3 = template3.format_messages(\n",
    "\tmax_items=10,\n",
    "\tquestion=\"What are the colors?\",\n",
    ")\n",
    "\n",
    "result = chat.predict_messages(prompt3)\n",
    "\n",
    "p = CommaOutputParser()\n",
    "p.parse(result.content)"
   ]
  },
  {
   "cell_type": "code",
   "execution_count": null,
   "metadata": {},
   "outputs": [],
   "source": [
    "# good request with chain\n",
    "\n",
    "chain = template3 | chat | CommaOutputParser()\n",
    "chain.invoke({\n",
    "\t\"max_items\": 5,\n",
    "\t\"question\": \"what are the pokemons?\"\n",
    "})"
   ]
  },
  {
   "cell_type": "code",
   "execution_count": null,
   "metadata": {},
   "outputs": [],
   "source": [
    "chef_prompt = ChatPromptTemplate.from_messages([\n",
    "\t(\n",
    "\t\t\"system\",\n",
    "\t\t\"You are a world-class international chef. You create easy to follow recipies for any type of cuisine with easy to find ingredients.\"\n",
    "\t),\n",
    "\t(\n",
    "\t\t\"human\",\n",
    "\t\t\"I want to cook {cuisine} food.\" \n",
    "\t),\n",
    "])\n",
    "\n",
    "chef_chain = chef_prompt | chat\n",
    "\n",
    "\n",
    "veg_chef_prompt = ChatPromptTemplate.from_messages([\n",
    "\t(\n",
    "\t\t\"system\",\n",
    "\t\t\"You are a vegetarian chef specialized on making traditional recipies vegetarian. You find alternative ingredients and explain thier preparation. You don't radically modify the recipe. If there is no alternative for a food just say you don't know how to replace it.\"\n",
    "\t),\n",
    "\t(\n",
    "\t\t\"human\",\n",
    "\t\t\"{recipe}\" \n",
    "\t),\n",
    "])\n",
    "\n",
    "veg_chain = veg_chef_prompt | chat\n",
    "\n",
    "final_chain = {\"recipe\" : chef_chain} | veg_chain\n",
    "\n",
    "final_chain.invoke({\n",
    "\t\"cuisine\" : \"indian\",\n",
    "})"
   ]
  }
 ],
 "metadata": {
  "kernelspec": {
   "display_name": "env",
   "language": "python",
   "name": "python3"
  },
  "language_info": {
   "codemirror_mode": {
    "name": "ipython",
    "version": 3
   },
   "file_extension": ".py",
   "mimetype": "text/x-python",
   "name": "python",
   "nbconvert_exporter": "python",
   "pygments_lexer": "ipython3",
   "version": "3.11.11"
  }
 },
 "nbformat": 4,
 "nbformat_minor": 2
}
