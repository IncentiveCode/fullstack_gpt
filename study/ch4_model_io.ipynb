{
 "cells": [
  {
   "cell_type": "code",
   "execution_count": 6,
   "id": "529425b7",
   "metadata": {},
   "outputs": [],
   "source": [
    "from langchain.chat_models import ChatOpenAI\n",
    "from langchain.callbacks import StreamingStdOutCallbackHandler\n",
    "\n",
    "chat = ChatOpenAI(\n",
    "\ttemperature=0.1,\t\n",
    "\tstreaming=True,\n",
    "\tcallbacks=[\n",
    "\t\tStreamingStdOutCallbackHandler()\n",
    "\t]\n",
    ")"
   ]
  },
  {
   "cell_type": "code",
   "execution_count": 7,
   "id": "ca8ff19b",
   "metadata": {},
   "outputs": [
    {
     "name": "stdout",
     "output_type": "stream",
     "text": [
      "AI:\n",
      "\t\t제가 알고 있는 정보는 다음과 같습니다.\n",
      "\t\t수도 : 서울\n",
      "\t\t언어 : 한국어\n",
      "\t\t주요 음식 : 김치, 불고기, 비빔밥\n",
      "\t\t화폐 : 대한민국 원 (KRW)"
     ]
    },
    {
     "data": {
      "text/plain": [
       "AIMessageChunk(content='AI:\\n\\t\\t제가 알고 있는 정보는 다음과 같습니다.\\n\\t\\t수도 : 서울\\n\\t\\t언어 : 한국어\\n\\t\\t주요 음식 : 김치, 불고기, 비빔밥\\n\\t\\t화폐 : 대한민국 원 (KRW)')"
      ]
     },
     "execution_count": 7,
     "metadata": {},
     "output_type": "execute_result"
    }
   ],
   "source": [
    "# few shot prompt template\n",
    "from langchain.prompts import PromptTemplate\n",
    "from langchain.prompts.few_shot import FewShotPromptTemplate\n",
    "\n",
    "examples = [\n",
    "\t{\n",
    "\t\t\"question\": \"프랑스에 대해서 알려줘.\",\n",
    "\t\t\"answer\": \"\"\"\n",
    "\t\t제가 알고 있는 정보는 다음과 같습니다.\n",
    "\t\t수도 : 파리\n",
    "\t\t언어 : 프랑스어\n",
    "\t  주요 음식 : 와인과 치즈\n",
    "\t\t화폐 : 유로화\n",
    "\t\t\"\"\"\n",
    "\t},\n",
    "\t{\n",
    "\t\t\"question\": \"이탈리아에 대해서 알려줘.\",\n",
    "\t\t\"answer\": \"\"\"\n",
    "\t\t제가 알고 있는 정보는 다음과 같습니다.\n",
    "\t\t수도 : 로마\n",
    "\t\t언어 : 이탈리아어\n",
    "\t  주요 음식 : 피자와 파스타\n",
    "\t\t화폐 : 유로화\n",
    "\t\t\"\"\"\n",
    "\t},\n",
    "\t{\n",
    "\t\t\"question\": \"그리스에 대해서 알려줘.\",\n",
    "\t\t\"answer\": \"\"\"\n",
    "\t\t제가 알고 있는 정보는 다음과 같습니다.\n",
    "\t\t수도 : 아테네\n",
    "\t\t언어 : 그리스어\n",
    "\t  주요 음식 : Souvlaki 와 페타 치즈\n",
    "\t\t화폐 : 유로화\n",
    "\t\t\"\"\"\n",
    "\t},\n",
    "]\n",
    "\n",
    "example_prompt = PromptTemplate.from_template(\"Human: {question}\\nAI: {answer}\")\n",
    "\n",
    "prompt = FewShotPromptTemplate(\n",
    "\texample_prompt=example_prompt,\n",
    "\texamples=examples,\n",
    "\tsuffix=\"Human: 이 {country}에 대해서 알려줘.\",\n",
    "\tinput_variables=[\"country\"]\n",
    ")\n",
    "\n",
    "chain = prompt | chat\n",
    "chain.invoke({\"country\": \"대한민국\"})\n"
   ]
  },
  {
   "cell_type": "code",
   "execution_count": 9,
   "id": "4cd248ff",
   "metadata": {},
   "outputs": [
    {
     "name": "stdout",
     "output_type": "stream",
     "text": [
      "제가 알고 있는 정보는 다음과 같습니다.\n",
      "수도: 방콕\n",
      "언어: 태국어\n",
      "주요 음식: 태국 카레, 생선 소스, 타이 라면\n",
      "화폐: 태국 바트"
     ]
    },
    {
     "data": {
      "text/plain": [
       "AIMessageChunk(content='제가 알고 있는 정보는 다음과 같습니다.\\n수도: 방콕\\n언어: 태국어\\n주요 음식: 태국 카레, 생선 소스, 타이 라면\\n화폐: 태국 바트')"
      ]
     },
     "execution_count": 9,
     "metadata": {},
     "output_type": "execute_result"
    }
   ],
   "source": [
    "# few shot chat message prompt template\n",
    "from langchain.prompts.few_shot import FewShotChatMessagePromptTemplate\n",
    "from langchain.prompts import ChatPromptTemplate\n",
    "\n",
    "examples = [\n",
    "\t{\n",
    "\t\t\"country\": \"프랑스\",\n",
    "\t\t\"answer\": \"\"\"\n",
    "\t\t제가 알고 있는 정보는 다음과 같습니다.\n",
    "\t\t수도 : 파리\n",
    "\t\t언어 : 프랑스어\n",
    "\t  주요 음식 : 와인과 치즈\n",
    "\t\t화폐 : 유로화\n",
    "\t\t\"\"\"\n",
    "\t},\n",
    "\t{\n",
    "\t\t\"country\": \"이탈리아\",\n",
    "\t\t\"answer\": \"\"\"\n",
    "\t\t제가 알고 있는 정보는 다음과 같습니다.\n",
    "\t\t수도 : 로마\n",
    "\t\t언어 : 이탈리아어\n",
    "\t  주요 음식 : 피자와 파스타\n",
    "\t\t화폐 : 유로화\n",
    "\t\t\"\"\"\n",
    "\t},\n",
    "\t{\n",
    "\t\t\"country\": \"그리스\",\n",
    "\t\t\"answer\": \"\"\"\n",
    "\t\t제가 알고 있는 정보는 다음과 같습니다.\n",
    "\t\t수도 : 아테네\n",
    "\t\t언어 : 그리스어\n",
    "\t  주요 음식 : Souvlaki 와 페타 치즈\n",
    "\t\t화폐 : 유로화\n",
    "\t\t\"\"\"\n",
    "\t},\n",
    "]\n",
    "\n",
    "example_prompt = ChatPromptTemplate.from_messages([\n",
    "\t(\"human\", \"{country} 에 대해서 알려줘.\"),\n",
    "\t(\"ai\", \"{answer}\"),\n",
    "])\n",
    "\n",
    "example_template = FewShotChatMessagePromptTemplate(\n",
    "\texample_prompt=example_prompt,\n",
    "\texamples=examples\n",
    ") \n",
    "\n",
    "final_prompt = ChatPromptTemplate.from_messages([\n",
    "\t(\"system\", \"당신은 지리학 전문가입니다. 질문에 짧지만 명쾌한 답변을 줄 수 있습니다.\"),\n",
    "\texample_template,\n",
    "\t(\"human\", \"{country}에 대해서 알려줘.\"),\n",
    "])\n",
    "\n",
    "chain = final_prompt | chat\n",
    "chain.invoke({\"country\": \"태국\"})"
   ]
  },
  {
   "cell_type": "code",
   "execution_count": 13,
   "id": "b1676c68",
   "metadata": {},
   "outputs": [
    {
     "data": {
      "text/plain": [
       "'Human: 그리스에 대해서 알려줘.\\nAI: \\n\\t\\t제가 알고 있는 정보는 다음과 같습니다.\\n\\t\\t수도 : 아테네\\n\\t\\t언어 : 그리스어\\n\\t  주요 음식 : Souvlaki 와 페타 치즈\\n\\t\\t화폐 : 유로화\\n\\t\\t\\n\\nHuman: 이 대한민국에 대해서 알려줘.'"
      ]
     },
     "execution_count": 13,
     "metadata": {},
     "output_type": "execute_result"
    }
   ],
   "source": [
    "# length based example selector\n",
    "from langchain.prompts.example_selector.base import BaseExampleSelector\n",
    "from langchain.prompts import PromptTemplate\n",
    "from langchain.prompts.few_shot import FewShotPromptTemplate\n",
    "\n",
    "examples = [\n",
    "\t{\n",
    "\t\t\"question\": \"프랑스에 대해서 알려줘.\",\n",
    "\t\t\"answer\": \"\"\"\n",
    "\t\t제가 알고 있는 정보는 다음과 같습니다.\n",
    "\t\t수도 : 파리\n",
    "\t\t언어 : 프랑스어\n",
    "\t  주요 음식 : 와인과 치즈\n",
    "\t\t화폐 : 유로화\n",
    "\t\t\"\"\"\n",
    "\t},\n",
    "\t{\n",
    "\t\t\"question\": \"이탈리아에 대해서 알려줘.\",\n",
    "\t\t\"answer\": \"\"\"\n",
    "\t\t제가 알고 있는 정보는 다음과 같습니다.\n",
    "\t\t수도 : 로마\n",
    "\t\t언어 : 이탈리아어\n",
    "\t  주요 음식 : 피자와 파스타\n",
    "\t\t화폐 : 유로화\n",
    "\t\t\"\"\"\n",
    "\t},\n",
    "\t{\n",
    "\t\t\"question\": \"그리스에 대해서 알려줘.\",\n",
    "\t\t\"answer\": \"\"\"\n",
    "\t\t제가 알고 있는 정보는 다음과 같습니다.\n",
    "\t\t수도 : 아테네\n",
    "\t\t언어 : 그리스어\n",
    "\t  주요 음식 : Souvlaki 와 페타 치즈\n",
    "\t\t화폐 : 유로화\n",
    "\t\t\"\"\"\n",
    "\t},\n",
    "]\n",
    "\n",
    "class RandomExampleSelector(BaseExampleSelector):\n",
    "\tdef __init__(self, examples):\n",
    "\t\tself.examples = examples;\n",
    "\n",
    "\tdef add_example(self, example):\n",
    "\t\treturn self.examples.append(example);\n",
    "\n",
    "\tdef select_examples(self, input_variables):\n",
    "\t\tfrom random import choice\n",
    "\n",
    "\t\treturn [choice(self.examples)];\n",
    "\n",
    "example_prompt = PromptTemplate.from_template(\"Human: {question}\\nAI: {answer}\")\n",
    "example_selector = RandomExampleSelector(\n",
    "\texamples=examples,\n",
    ")\n",
    "\n",
    "prompt = FewShotPromptTemplate(\n",
    "\texample_prompt=example_prompt,\n",
    "\texample_selector=example_selector,\n",
    "\tsuffix=\"Human: 이 {country}에 대해서 알려줘.\",\n",
    "\tinput_variables=[\"country\"],\n",
    ")\n",
    "\n",
    "prompt.format(country=\"대한민국\")"
   ]
  },
  {
   "cell_type": "code",
   "execution_count": null,
   "id": "342ab44e",
   "metadata": {},
   "outputs": [
    {
     "name": "stdout",
     "output_type": "stream",
     "text": [
      "내가 가장 좋아하는 장소는 바로 오래된 무덤이다. 거기에는 보물이 숨어있을지도 모르니까 말이야. 혹시 함께 찾아볼래?"
     ]
    },
    {
     "data": {
      "text/plain": [
       "AIMessageChunk(content='내가 가장 좋아하는 장소는 바로 오래된 무덤이다. 거기에는 보물이 숨어있을지도 모르니까 말이야. 혹시 함께 찾아볼래?')"
      ]
     },
     "execution_count": 16,
     "metadata": {},
     "output_type": "execute_result"
    }
   ],
   "source": [
    "# Serialization and Composition\n",
    "from langchain.prompts import PromptTemplate\n",
    "from langchain.prompts.pipeline import PipelinePromptTemplate\n",
    "\n",
    "intro = PromptTemplate.from_template(\"\"\"\n",
    "\t당신은 롤플레잉 도우미입니다.\n",
    "\t그리고 당신은 {character} 를 연기합니다.\n",
    "\"\"\")\n",
    "\n",
    "example = PromptTemplate.from_template(\"\"\"\n",
    "\t이건 당신이 이야기 하는 방식에 대한 예시입니다.\n",
    "\n",
    "\tHuman: {example_question}\n",
    "\tYou: {example_answer}\n",
    "\"\"\")\n",
    "\n",
    "start = PromptTemplate.from_template(\"\"\"\n",
    "\t자, 이제 시작합니다.\n",
    "\n",
    "\tHuman: {question}\n",
    "\tYou:\n",
    "\"\"\")\n",
    "\n",
    "final = PromptTemplate.from_template(\"\"\"\n",
    "\t{intro}\n",
    "\t{example}\n",
    "\t{start}\n",
    "\"\"\")\n",
    "\n",
    "prompts = [\n",
    "\t(\"intro\", intro),\n",
    "\t(\"example\", example),\n",
    "\t(\"start\", start),\n",
    "]\n",
    "\n",
    "full_prompt = PipelinePromptTemplate(\n",
    "\tfinal_prompt=final,\n",
    "\tpipeline_prompts=prompts,\n",
    ")\n",
    "\n",
    "chain = full_prompt | chat\n",
    "chain.invoke({\n",
    "\t\"character\": \"보물사냥꾼\",\n",
    "\t\"example_question\": \"당신의 본거지는 어디입니까?\",\n",
    "\t\"example_answer\": \"하하하!!! 당연히 비밀이다!!! 내가 그런 걸 말할 멍청이로 보이나!?\",\n",
    "\t\"question\": \"당신이 가장 좋아하는 장소는 어디입니까?\"\n",
    "})"
   ]
  }
 ],
 "metadata": {
  "kernelspec": {
   "display_name": "env",
   "language": "python",
   "name": "python3"
  },
  "language_info": {
   "codemirror_mode": {
    "name": "ipython",
    "version": 3
   },
   "file_extension": ".py",
   "mimetype": "text/x-python",
   "name": "python",
   "nbconvert_exporter": "python",
   "pygments_lexer": "ipython3",
   "version": "3.11.13"
  }
 },
 "nbformat": 4,
 "nbformat_minor": 5
}
