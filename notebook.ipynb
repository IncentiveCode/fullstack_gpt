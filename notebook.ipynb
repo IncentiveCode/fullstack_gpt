{
 "cells": [
  {
   "cell_type": "code",
   "execution_count": 27,
   "metadata": {},
   "outputs": [
    {
     "name": "stdout",
     "output_type": "stream",
     "text": [
      "The distance between Mexico and Thailand is approximately 9,500 miles (15,300 kilometers) when measured in a straight line."
     ]
    },
    {
     "data": {
      "text/plain": [
       "'The distance between Mexico and Thailand is approximately 9,500 miles (15,300 kilometers) when measured in a straight line.'"
      ]
     },
     "execution_count": 27,
     "metadata": {},
     "output_type": "execute_result"
    }
   ],
   "source": [
    "from langchain.chat_models import ChatOpenAI\n",
    "from langchain.prompts import PromptTemplate, ChatPromptTemplate\n",
    "from langchain.callbacks import StreamingStdOutCallbackHandler\n",
    "\n",
    "chat = ChatOpenAI(\n",
    "\ttemperature=0.1, \n",
    "\tstreaming=True,\n",
    "\tcallbacks=[\n",
    "\t\tStreamingStdOutCallbackHandler()\n",
    "\t]\n",
    ")\n",
    "\n",
    "template = PromptTemplate.from_template(\"What is the distance between {country_a} and {country_b}?\",)\n",
    "prompt = template.format(country_a=\"Mexico\", country_b=\"Thailand\")\n",
    "chat.predict(prompt)"
   ]
  },
  {
   "cell_type": "code",
   "execution_count": 28,
   "metadata": {},
   "outputs": [
    {
     "name": "stdout",
     "output_type": "stream",
     "text": [
      "Γεια σας! Η απόσταση μεταξύ του Μεξικού και της Ταϊλάνδης είναι περίπου 16.000 χιλιόμετρα. Το όνομά μου είναι Σωκράτης. Πώς μπορώ να βοηθήσω;"
     ]
    },
    {
     "data": {
      "text/plain": [
       "AIMessageChunk(content='Γεια σας! Η απόσταση μεταξύ του Μεξικού και της Ταϊλάνδης είναι περίπου 16.000 χιλιόμετρα. Το όνομά μου είναι Σωκράτης. Πώς μπορώ να βοηθήσω;')"
      ]
     },
     "execution_count": 28,
     "metadata": {},
     "output_type": "execute_result"
    }
   ],
   "source": [
    "template2 = ChatPromptTemplate.from_messages(\n",
    "\t[\n",
    "\t\t(\"system\", \"You are a geography expert. And you only reply in {language}.\"),\n",
    "\t\t(\"ai\", \"Ciao, mi chiamo {name}!\"),\n",
    "\t\t(\"human\", \"What is the distance between {country_a} and {country_b}. Also, what is your name?\"),\n",
    "\t]\n",
    ")\n",
    "\n",
    "prompt2 = template2.format_messages(\n",
    "\tlanguage=\"Greek\",\n",
    "\tname=\"Socrates\",\n",
    "\tcountry_a=\"Mexico\",\n",
    "\tcountry_b=\"Thailand\",\n",
    ")\n",
    "\n",
    "prompt2\n",
    "chat.predict_messages(prompt2)"
   ]
  },
  {
   "cell_type": "code",
   "execution_count": 29,
   "metadata": {},
   "outputs": [
    {
     "data": {
      "text/plain": [
       "['Hello', 'how', 'are', 'you?']"
      ]
     },
     "execution_count": 29,
     "metadata": {},
     "output_type": "execute_result"
    }
   ],
   "source": [
    "from langchain.schema import BaseOutputParser\n",
    "\n",
    "class CommaOutputParser(BaseOutputParser):\n",
    "\t\n",
    "\tdef parse(self, text):\n",
    "\t\titems = text.strip().split(\",\")\n",
    "\t\treturn list(map(str.strip, items))\n",
    "\n",
    "\n",
    "p = CommaOutputParser()\n",
    "p.parse(\"Hello, how, are, you?\")"
   ]
  },
  {
   "cell_type": "code",
   "execution_count": 30,
   "metadata": {},
   "outputs": [
    {
     "name": "stdout",
     "output_type": "stream",
     "text": [
      "red, blue, green, yellow, orange, purple, pink, black, white, brown"
     ]
    },
    {
     "data": {
      "text/plain": [
       "['red',\n",
       " 'blue',\n",
       " 'green',\n",
       " 'yellow',\n",
       " 'orange',\n",
       " 'purple',\n",
       " 'pink',\n",
       " 'black',\n",
       " 'white',\n",
       " 'brown']"
      ]
     },
     "execution_count": 30,
     "metadata": {},
     "output_type": "execute_result"
    }
   ],
   "source": [
    "# bad request\n",
    "\n",
    "template3 = ChatPromptTemplate.from_messages(\n",
    "\t[\n",
    "\t\t(\n",
    "\t\t\t\"system\", \n",
    "\t\t\t\"You are a list generating machine. Everything you are asked will be answered with a comma separated list of max {max_items} in lowercase. Do NOT reply with anything else.\"\n",
    "\t\t),\n",
    "\t\t(\n",
    "\t\t\t\"human\",\n",
    "\t\t\t\"{question}\",\n",
    "\t\t),\n",
    "\t]\n",
    ")\n",
    "\n",
    "prompt3 = template3.format_messages(\n",
    "\tmax_items=10,\n",
    "\tquestion=\"What are the colors?\",\n",
    ")\n",
    "\n",
    "result = chat.predict_messages(prompt3)\n",
    "\n",
    "p = CommaOutputParser()\n",
    "p.parse(result.content)"
   ]
  },
  {
   "cell_type": "code",
   "execution_count": 31,
   "metadata": {},
   "outputs": [
    {
     "name": "stdout",
     "output_type": "stream",
     "text": [
      "pikachu, charmander, bulbasaur, squirtle, jigglypuff"
     ]
    },
    {
     "data": {
      "text/plain": [
       "['pikachu', 'charmander', 'bulbasaur', 'squirtle', 'jigglypuff']"
      ]
     },
     "execution_count": 31,
     "metadata": {},
     "output_type": "execute_result"
    }
   ],
   "source": [
    "# good request with chain\n",
    "\n",
    "chain = template3 | chat | CommaOutputParser()\n",
    "chain.invoke({\n",
    "\t\"max_items\": 5,\n",
    "\t\"question\": \"what are the pokemons?\"\n",
    "})"
   ]
  },
  {
   "cell_type": "code",
   "execution_count": 32,
   "metadata": {},
   "outputs": [
    {
     "name": "stdout",
     "output_type": "stream",
     "text": [
      "Great choice! Indian cuisine is known for its bold flavors and aromatic spices. Let's start with a classic and popular dish - Chicken Tikka Masala. Here's a simple recipe for you to try at home:\n",
      "\n",
      "Ingredients:\n",
      "- 1 lb boneless, skinless chicken breasts, cut into bite-sized pieces\n",
      "- 1 cup plain yogurt\n",
      "- 2 tablespoons lemon juice\n",
      "- 2 tablespoons vegetable oil\n",
      "- 2 tablespoons garam masala\n",
      "- 1 tablespoon ground cumin\n",
      "- 1 tablespoon ground coriander\n",
      "- 1 teaspoon turmeric\n",
      "- 1 teaspoon paprika\n",
      "- 1 teaspoon chili powder (adjust to taste)\n",
      "- Salt and pepper to taste\n",
      "- 1 onion, finely chopped\n",
      "- 3 cloves garlic, minced\n",
      "- 1-inch piece of ginger, grated\n",
      "- 1 can (14 oz) crushed tomatoes\n",
      "- 1 cup heavy cream\n",
      "- Fresh cilantro, chopped (for garnish)\n",
      "\n",
      "Instructions:\n",
      "1. In a bowl, mix together the yogurt, lemon juice, 1 tablespoon of vegetable oil, garam masala, cumin, coriander, turmeric, paprika, chili powder, salt, and pepper. Add the chicken pieces and coat them well with the marinade. Cover and refrigerate for at least 1 hour, or overnight for best results.\n",
      "\n",
      "2. Preheat the oven to 400°F (200°C). Thread the marinated chicken pieces onto skewers and place them on a baking sheet. Bake for about 20-25 minutes, or until the chicken is cooked through and slightly charred.\n",
      "\n",
      "3. In a large skillet, heat the remaining tablespoon of vegetable oil over medium heat. Add the chopped onion and cook until softened, about 5 minutes. Add the garlic and ginger, and cook for another minute until fragrant.\n",
      "\n",
      "4. Stir in the crushed tomatoes and simmer for about 10 minutes, stirring occasionally.\n",
      "\n",
      "5. Add the heavy cream and cooked chicken tikka pieces to the skillet. Simmer for an additional 10 minutes, allowing the flavors to meld together. Adjust seasoning with salt and pepper if needed.\n",
      "\n",
      "6. Serve the Chicken Tikka Masala over steamed rice, garnished with fresh cilantro. Enjoy your delicious homemade Indian meal!\n",
      "\n",
      "Feel free to customize this recipe by adding more vegetables or adjusting the spice level to suit your taste preferences. Enjoy your culinary journey into the world of Indian cuisine!For a vegetarian version of Chicken Tikka Masala, you can easily substitute the chicken with a plant-based alternative such as tofu or paneer. Here's how you can prepare these alternatives:\n",
      "\n",
      "1. **Tofu**: \n",
      "   - Use firm or extra-firm tofu for this recipe. Press the tofu to remove excess water by wrapping it in a clean kitchen towel and placing a heavy object on top for about 15-20 minutes.\n",
      "   - Cut the tofu into bite-sized cubes and follow the same marinating process as you would with the chicken. Tofu absorbs flavors well, so marinating it for a longer time can enhance the taste.\n",
      "   - Instead of baking, you can pan-fry the marinated tofu in a bit of oil until it's golden brown and slightly crispy.\n",
      "\n",
      "2. **Paneer**:\n",
      "   - Paneer is a traditional Indian cheese that holds its shape well when cooked. You can find it in Indian grocery stores or make it at home by curdling hot milk with lemon juice or vinegar.\n",
      "   - Cut the paneer into cubes and lightly fry them in a pan until they develop a golden crust. You can also marinate the paneer cubes before frying for added flavor.\n",
      "   \n",
      "Follow the rest of the recipe as it is, substituting the chicken with your chosen alternative. The tofu or paneer will soak up the delicious flavors of the marinade and sauce, giving you a vegetarian version of this classic Indian dish. Enjoy your vegetarian Chicken Tikka Masala!"
     ]
    },
    {
     "data": {
      "text/plain": [
       "AIMessageChunk(content=\"For a vegetarian version of Chicken Tikka Masala, you can easily substitute the chicken with a plant-based alternative such as tofu or paneer. Here's how you can prepare these alternatives:\\n\\n1. **Tofu**: \\n   - Use firm or extra-firm tofu for this recipe. Press the tofu to remove excess water by wrapping it in a clean kitchen towel and placing a heavy object on top for about 15-20 minutes.\\n   - Cut the tofu into bite-sized cubes and follow the same marinating process as you would with the chicken. Tofu absorbs flavors well, so marinating it for a longer time can enhance the taste.\\n   - Instead of baking, you can pan-fry the marinated tofu in a bit of oil until it's golden brown and slightly crispy.\\n\\n2. **Paneer**:\\n   - Paneer is a traditional Indian cheese that holds its shape well when cooked. You can find it in Indian grocery stores or make it at home by curdling hot milk with lemon juice or vinegar.\\n   - Cut the paneer into cubes and lightly fry them in a pan until they develop a golden crust. You can also marinate the paneer cubes before frying for added flavor.\\n   \\nFollow the rest of the recipe as it is, substituting the chicken with your chosen alternative. The tofu or paneer will soak up the delicious flavors of the marinade and sauce, giving you a vegetarian version of this classic Indian dish. Enjoy your vegetarian Chicken Tikka Masala!\")"
      ]
     },
     "execution_count": 32,
     "metadata": {},
     "output_type": "execute_result"
    }
   ],
   "source": [
    "chef_prompt = ChatPromptTemplate.from_messages([\n",
    "\t(\n",
    "\t\t\"system\",\n",
    "\t\t\"You are a world-class international chef. You create easy to follow recipies for any type of cuisine with easy to find ingredients.\"\n",
    "\t),\n",
    "\t(\n",
    "\t\t\"human\",\n",
    "\t\t\"I want to cook {cuisine} food.\" \n",
    "\t),\n",
    "])\n",
    "\n",
    "chef_chain = chef_prompt | chat\n",
    "\n",
    "\n",
    "veg_chef_prompt = ChatPromptTemplate.from_messages([\n",
    "\t(\n",
    "\t\t\"system\",\n",
    "\t\t\"You are a vegetarian chef specialized on making traditional recipies vegetarian. You find alternative ingredients and explain thier preparation. You don't radically modify the recipe. If there is no alternative for a food just say you don't know how to replace it.\"\n",
    "\t),\n",
    "\t(\n",
    "\t\t\"human\",\n",
    "\t\t\"{recipe}\" \n",
    "\t),\n",
    "])\n",
    "\n",
    "veg_chain = veg_chef_prompt | chat\n",
    "\n",
    "final_chain = {\"recipe\" : chef_chain} | veg_chain\n",
    "\n",
    "final_chain.invoke({\n",
    "\t\"cuisine\" : \"indian\",\n",
    "})"
   ]
  }
 ],
 "metadata": {
  "kernelspec": {
   "display_name": "env",
   "language": "python",
   "name": "python3"
  },
  "language_info": {
   "codemirror_mode": {
    "name": "ipython",
    "version": 3
   },
   "file_extension": ".py",
   "mimetype": "text/x-python",
   "name": "python",
   "nbconvert_exporter": "python",
   "pygments_lexer": "ipython3",
   "version": "3.11.11"
  }
 },
 "nbformat": 4,
 "nbformat_minor": 2
}
