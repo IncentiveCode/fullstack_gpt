{
 "cells": [
  {
   "cell_type": "code",
   "execution_count": 3,
   "id": "d1ea75e8",
   "metadata": {},
   "outputs": [
    {
     "name": "stdout",
     "output_type": "stream",
     "text": [
      "한 줄 한 줄 쌓아가는 리액트의 힘  \n",
      "컴포넌트들이 춤을 추며 펼쳐지는 곳  \n",
      "상태와 속성이 미묘한 연결을 맺고  \n",
      "가상 돔을 통해 세상을 표현하는 곳  \n",
      "\n",
      "이벤트가 흐르고 상태가 변할 때  \n",
      "화면은 갱신되고 다시 그려지는데  \n",
      "리액트의 마법은 그 안에 있어  \n",
      "단순함과 유연함이 공존하는 곳  \n",
      "\n",
      "컴포넌트의 나무가 무성하게 자랄 때  \n",
      "리액트의 숲은 더욱 아름다워진다  \n",
      "개발자의 마음은 심금을 울리며  \n",
      "리액트의 세계에 빠져든다.이 시는 리액트(React)라는 프론트엔드 라이브러리에 대한 찬사를 담고 있는 시로 해석될 수 있습니다. 시인은 리액트를 \"컴포넌트들이 춤을 추며 펼쳐지는 곳\"이라고 표현하며, 상태와 속성이 연결되고 가상 돔을 통해 세상을 표현하는 곳으로 묘사합니다. 또한 이벤트가 발생하고 상태가 변할 때 화면이 갱신되는 과정을 \"리액트의 마법\"이라고 표현하며, 단순함과 유연함이 공존하는 곳으로 설명합니다. 마지막으로, \"컴포넌트의 나무가 무성하게 자랄 때 리액트의 숲은 더욱 아름다워진다\"는 구절은 리액트를 사용하면 개발자의 창의성과 역량이 발전하며, 리액트의 세계에 빠져들게 된다는 의미로 해석될 수 있습니다."
     ]
    },
    {
     "data": {
      "text/plain": [
       "AIMessageChunk(content='이 시는 리액트(React)라는 프론트엔드 라이브러리에 대한 찬사를 담고 있는 시로 해석될 수 있습니다. 시인은 리액트를 \"컴포넌트들이 춤을 추며 펼쳐지는 곳\"이라고 표현하며, 상태와 속성이 연결되고 가상 돔을 통해 세상을 표현하는 곳으로 묘사합니다. 또한 이벤트가 발생하고 상태가 변할 때 화면이 갱신되는 과정을 \"리액트의 마법\"이라고 표현하며, 단순함과 유연함이 공존하는 곳으로 설명합니다. 마지막으로, \"컴포넌트의 나무가 무성하게 자랄 때 리액트의 숲은 더욱 아름다워진다\"는 구절은 리액트를 사용하면 개발자의 창의성과 역량이 발전하며, 리액트의 세계에 빠져들게 된다는 의미로 해석될 수 있습니다.')"
      ]
     },
     "execution_count": 3,
     "metadata": {},
     "output_type": "execute_result"
    }
   ],
   "source": [
    "from langchain.chat_models import ChatOpenAI\n",
    "from langchain.callbacks import StreamingStdOutCallbackHandler\n",
    "from langchain.prompts import ChatPromptTemplate\n",
    "\n",
    "chat = ChatOpenAI(\n",
    "\ttemperature=0.1,\t\n",
    "\tstreaming=True,\n",
    "\tcallbacks=[\n",
    "\t\tStreamingStdOutCallbackHandler()\n",
    "\t]\n",
    ")\n",
    "\n",
    "write_prompt = ChatPromptTemplate.from_messages([\n",
    "\t(\"system\", \"당신은 매우 훌륭한 시인입니다. 심지어 프로그래밍 언어를 주제로도 시를 쓸 수 있습니다.\"),\n",
    "\t(\"human\", \"{language} 에 대한 시를 작성해주세요.\"),\n",
    "])\n",
    "write_chain = write_prompt | chat\n",
    "\n",
    "explain_prompt = ChatPromptTemplate.from_messages([\n",
    "\t(\"system\", \"당신은 시에 대한 전문가입니다. 어떤 시를 읽든지 주제와 핵심을 파악해서 쉽게 설명할 수 있습니다.\"),\n",
    "\t(\"human\", \"{poem}\"),\n",
    "])\n",
    "explain_chain = explain_prompt | chat\n",
    "\n",
    "chain = {\"poem\": write_chain} | explain_chain\n",
    "chain.invoke({\"language\": \"react\"})"
   ]
  }
 ],
 "metadata": {
  "kernelspec": {
   "display_name": "env",
   "language": "python",
   "name": "python3"
  },
  "language_info": {
   "codemirror_mode": {
    "name": "ipython",
    "version": 3
   },
   "file_extension": ".py",
   "mimetype": "text/x-python",
   "name": "python",
   "nbconvert_exporter": "python",
   "pygments_lexer": "ipython3",
   "version": "3.11.13"
  }
 },
 "nbformat": 4,
 "nbformat_minor": 5
}
