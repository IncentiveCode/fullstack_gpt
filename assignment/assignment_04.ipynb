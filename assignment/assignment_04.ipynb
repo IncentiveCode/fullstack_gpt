{
 "cells": [
  {
   "cell_type": "code",
   "execution_count": null,
   "id": "57695477",
   "metadata": {},
   "outputs": [],
   "source": [
    "# https://gist.github.com/ICE0208/8d296c5aabecc9a62fc4c9610d8dc493 참"
   ]
  }
 ],
 "metadata": {
  "kernelspec": {
   "display_name": "env",
   "language": "python",
   "name": "python3"
  },
  "language_info": {
   "name": "python",
   "version": "3.11.13"
  }
 },
 "nbformat": 4,
 "nbformat_minor": 5
}
