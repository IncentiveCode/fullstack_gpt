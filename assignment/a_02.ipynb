{
 "cells": [
  {
   "cell_type": "code",
   "execution_count": 1,
   "id": "101b9556",
   "metadata": {},
   "outputs": [],
   "source": [
    "from langchain.chat_models import ChatOpenAI\n",
    "from langchain.callbacks import StreamingStdOutCallbackHandler\n",
    "from langchain.prompts import PromptTemplate\n",
    "from langchain.prompts.few_shot import FewShotPromptTemplate\n",
    "\n",
    "chat = ChatOpenAI(\n",
    "\ttemperature=0.1,\t\n",
    "\tstreaming=True,\n",
    "\tcallbacks=[\n",
    "\t\tStreamingStdOutCallbackHandler()\n",
    "\t]\n",
    ")"
   ]
  },
  {
   "cell_type": "code",
   "execution_count": 2,
   "id": "3af03a1c",
   "metadata": {},
   "outputs": [
    {
     "name": "stdout",
     "output_type": "stream",
     "text": [
      "AI: \n",
      "\t\t제가 알고 있는 정보는 다음과 같습니다.\n",
      "\t\t감독 : 안소니 루소, 조 루소\n",
      "\t\t주연 : 로버트 다우니 주니어, 크리스 에반스, 크리스 헴스워스 외\n",
      "\t\t예산 : 약 3억 5,000만 달러\n",
      "\t\t흥행 수익 : 약 27억 5,000만 달러\n",
      "\t\t장르 : 슈퍼히어로, SF, 액션, 모험, 판타지, 드라마\n",
      "\t\t시놉시스 : 타노스에게 패배한 어벤져스는 절망에 빠진 지구를 구하기 위해 마지막 희망을 걸고 모험에 나서는데, 이를 위해 과거로 시간여행을 떠나고, 어벤져스의 멤버들이 모여 최후의 전투를 준비한다."
     ]
    },
    {
     "data": {
      "text/plain": [
       "AIMessageChunk(content='AI: \\n\\t\\t제가 알고 있는 정보는 다음과 같습니다.\\n\\t\\t감독 : 안소니 루소, 조 루소\\n\\t\\t주연 : 로버트 다우니 주니어, 크리스 에반스, 크리스 헴스워스 외\\n\\t\\t예산 : 약 3억 5,000만 달러\\n\\t\\t흥행 수익 : 약 27억 5,000만 달러\\n\\t\\t장르 : 슈퍼히어로, SF, 액션, 모험, 판타지, 드라마\\n\\t\\t시놉시스 : 타노스에게 패배한 어벤져스는 절망에 빠진 지구를 구하기 위해 마지막 희망을 걸고 모험에 나서는데, 이를 위해 과거로 시간여행을 떠나고, 어벤져스의 멤버들이 모여 최후의 전투를 준비한다.')"
      ]
     },
     "execution_count": 2,
     "metadata": {},
     "output_type": "execute_result"
    }
   ],
   "source": [
    "examples = [\n",
    "\t# 감독, 주요 출연진, 예산, 흥행 수익, 영화의 장르, 간단한 시놉시스\n",
    "\t{\n",
    "\t\t\"question\": \"영화 엘리멘탈에 대해서 알려줘.\",\n",
    "\t\t\"answer\": \"\"\" \n",
    "\t\t제가 알고 있는 정보는 다음과 같습니다.\n",
    "\t\t감독 : 피터 손\n",
    "\t\t주연 : 레아 루이스, 마무두 아티 외\n",
    "\t\t예산 : 약 2억 달러\n",
    "\t\t흥행 수익 : 약 4억 9,644만 달러\n",
    "\t\t장르 : 애니메이션, 로맨스, 코미디, 가족, 성장, 드라마\n",
    "\t\t시놉시스 : 불, 물, 공기, 흙 4개의 원소들이 살고 있는 ‘엘리멘트 시티’. 재치 있고 불처럼 열정 넘치는 ‘앰버'는 어느 날 우연히 유쾌하고 감성적이며 물 흐르듯 사는 '웨이드'를 만나 특별한 우정을 쌓으며, 지금껏 믿어온 모든 것들이 흔들리는 새로운 경험을 하게 되는데...\n",
    "\t\t\"\"\"\n",
    "\t},\n",
    "\t{\n",
    "\t\t\"question\": \"영화 인사이드 아웃2 에 대해서 알려줘.\",\n",
    "\t\t\"answer\": \"\"\" \n",
    "\t\t제가 알고 있는 정보는 다음과 같습니다.\n",
    "\t\t감독 : 켈시 맨\n",
    "\t\t주연 : 에이미 폴러, 마야 호크 외\n",
    "\t\t예산 : 약 2억 달러\n",
    "\t\t흥행 수익 : 약 16억 9,877만 달러\n",
    "\t\t장르 : 애니메이션, 코미디, 드라마, 성장, 가족, 어드벤처\n",
    "\t\t시놉시스 : 13살이 된 라일리의 행복을 위해 매일 바쁘게 머릿속 감정 컨트롤 본부를 운영하는 ‘기쁨’, ‘슬픔’, ‘버럭’, ‘까칠’, ‘소심’. 그러던 어느 날, 낯선 감정인 ‘불안’, ‘당황’, ‘따분’, ‘부럽’이가 본부에 등장하고, 언제나 최악의 상황을 대비하며 제멋대로인 ‘불안’이와 기존 감정들은 계속 충돌한다. 결국 새로운 감정들에 의해 본부에서 쫓겨나게 된 기존 감정들은 다시 본부로 돌아가기 위해 위험천만한 모험을 시작하는데…\n",
    "\t\t\"\"\"\t\n",
    "\t},\n",
    "\t{\n",
    "\t\t\"question\": \"영화 가디언즈 오브 갤럭시: volume 3 에 대해서 알려줘.\",\n",
    "\t\t\"answer\": \"\"\" \n",
    "\t\t제가 알고 있는 정보는 다음과 같습니다.\n",
    "\t\t감독 : 제임스 건\n",
    "\t\t주연 : 크리스 프랫, 조 샐다나 외\n",
    "\t\t예산 : 약 2억 5,000만 달러\n",
    "\t\t흥행 수익 : 약 8억 4,547만 달러\n",
    "\t\t장르 : 슈퍼히어로, SF, 액션, 코미디, 어드벤처, 판타지, 스페이스 오페라, 드라마, 가족\n",
    "\t\t시놉시스 : ‘가모라’를 잃고 슬픔에 빠져 있던 ‘피터 퀼’이 위기에 처한 은하계와 동료를 지키기 위해 다시 한번 가디언즈 팀과 힘을 모으고, 성공하지 못할 경우 그들의 마지막이 될지도 모르는 미션에 나서는 이야기.\n",
    "\t\t\"\"\"\t\t\n",
    "\t}\n",
    "]\n",
    "\n",
    "example_prompt = PromptTemplate.from_template(\"Human: {question}\\nAI: {answer}\")\n",
    "prompt = FewShotPromptTemplate(\n",
    "\texample_prompt=example_prompt,\n",
    "\texamples=examples,\n",
    "\tsuffix=\"Human: 이 {movie}에 대해서 알려줘.\",\n",
    "\tinput_variables=[\"movie\"],\n",
    ")\n",
    "\n",
    "chain = prompt | chat\n",
    "chain.invoke({\"movie\": \"어벤져스: 엔드게임\"})"
   ]
  }
 ],
 "metadata": {
  "kernelspec": {
   "display_name": "env",
   "language": "python",
   "name": "python3"
  },
  "language_info": {
   "codemirror_mode": {
    "name": "ipython",
    "version": 3
   },
   "file_extension": ".py",
   "mimetype": "text/x-python",
   "name": "python",
   "nbconvert_exporter": "python",
   "pygments_lexer": "ipython3",
   "version": "3.11.13"
  }
 },
 "nbformat": 4,
 "nbformat_minor": 5
}
