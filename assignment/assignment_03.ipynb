{
 "cells": [
  {
   "cell_type": "code",
   "execution_count": 11,
   "metadata": {},
   "outputs": [],
   "source": [
    "from langchain.callbacks import StreamingStdOutCallbackHandler\n",
    "from langchain.chat_models import ChatOpenAI\n",
    "from langchain.memory import ConversationSummaryBufferMemory\n",
    "from langchain.prompts import ChatPromptTemplate, MessagesPlaceholder\n",
    "from langchain.prompts.few_shot import FewShotChatMessagePromptTemplate\n",
    "from langchain.schema.runnable import RunnablePassthrough\n",
    "\n",
    "llm = ChatOpenAI(\n",
    "\ttemperature=0.1,\n",
    "\tstreaming=True,\n",
    "\tcallbacks=[\n",
    "\t\tStreamingStdOutCallbackHandler()\n",
    "\t]\n",
    ")\n",
    "memory = ConversationSummaryBufferMemory(\n",
    "\tllm=llm,\n",
    "\tmax_token_limit=120,\n",
    "\treturn_messages=True,\n",
    ")\n",
    "\n",
    "examples = [\n",
    "\t{\n",
    "\t\t\"movie_name\": \"탑건\",\n",
    "\t\t\"history\": [],\n",
    "\t\t\"answer\": \"🛩️👨‍✈️🔥\",\n",
    "\t},\n",
    "\t{\n",
    "\t\t\"movie_name\": \"대부\",\n",
    "\t\t\"history\": [],\n",
    "\t\t\"answer\": \"👨‍👨‍👦🔫🍝\",\t\n",
    "\t},\n",
    "]\n",
    "\n",
    "example_prompt = ChatPromptTemplate.from_messages([ \n",
    "\t(\n",
    "\t\t\"human\",\n",
    "\t\t\"{movie_name}\"\n",
    "\t),\n",
    "\t(\n",
    "\t\t\"ai\",\n",
    "\t\t\"{answer}\"\n",
    "\t),\n",
    "])\n",
    "\n",
    "few_shot_prompt = FewShotChatMessagePromptTemplate(\n",
    "\texample_prompt=example_prompt,\n",
    "\texamples=examples\n",
    ")\n",
    "\n",
    "prompt = ChatPromptTemplate.from_messages([ \n",
    "\t(\"system\", \"당신은 매우 뛰어난 영화 평론가입니다. 영화 제목을 들으면 그 영화에 대해 이모티콘 3개로 설명할 수 있습니다.\"),\n",
    "\tfew_shot_prompt,\n",
    "\tMessagesPlaceholder(variable_name=\"history\", ),\n",
    "\t(\"human\", \"{movie_name}\"),\n",
    "])\n",
    "\n",
    "def load_memory(_):\n",
    "\treturn memory.load_memory_variables({})[\"history\"]\n",
    "\n",
    "chain = RunnablePassthrough.assign(history=load_memory) | prompt | llm\n",
    "\n",
    "def invoke_chain(movie_name):\n",
    "\tresult = chain.invoke({\"movie_name\": movie_name})\n",
    "\t# print(result)\n",
    "\n",
    "\tmemory.save_context(\n",
    "\t\t{\"input\": movie_name},\n",
    "\t\t{\"output\": result.content},\n",
    "\t)"
   ]
  },
  {
   "cell_type": "code",
   "execution_count": 12,
   "metadata": {},
   "outputs": [
    {
     "name": "stdout",
     "output_type": "stream",
     "text": [
      "🇺🇸❄️🛡️"
     ]
    }
   ],
   "source": [
    "invoke_chain(\"캡틴아메리카: 더 윈터 솔져\")"
   ]
  },
  {
   "cell_type": "code",
   "execution_count": 13,
   "metadata": {},
   "outputs": [
    {
     "name": "stdout",
     "output_type": "stream",
     "text": [
      "🏀🔥🤯"
     ]
    }
   ],
   "source": [
    "invoke_chain(\"슬램덩크\")"
   ]
  },
  {
   "cell_type": "code",
   "execution_count": 21,
   "metadata": {},
   "outputs": [
    {
     "data": {
      "text/plain": [
       "[HumanMessage(content='캡틴아메리카: 더 윈터 솔져'),\n",
       " AIMessage(content='🇺🇸❄️🛡️'),\n",
       " HumanMessage(content='슬램덩크'),\n",
       " AIMessage(content='🏀🔥🤯')]"
      ]
     },
     "execution_count": 21,
     "metadata": {},
     "output_type": "execute_result"
    }
   ],
   "source": [
    "memory.load_memory_variables({})[\"history\"]"
   ]
  },
  {
   "cell_type": "code",
   "execution_count": 26,
   "metadata": {},
   "outputs": [
    {
     "name": "stdout",
     "output_type": "stream",
     "text": [
      "이전에 당신이 질문한 영화는 \"캡틴 아메리카: 더 윈터 솔져\"였습니다."
     ]
    },
    {
     "data": {
      "text/plain": [
       "AIMessageChunk(content='이전에 당신이 질문한 영화는 \"캡틴 아메리카: 더 윈터 솔져\"였습니다.')"
      ]
     },
     "execution_count": 26,
     "metadata": {},
     "output_type": "execute_result"
    }
   ],
   "source": [
    "chain.invoke({\"movie_name\": \"내가 방금 질문한 영화 이전에 질문한 영화 제목은 뭐지?\"})"
   ]
  },
  {
   "cell_type": "code",
   "execution_count": 16,
   "metadata": {},
   "outputs": [
    {
     "name": "stdout",
     "output_type": "stream",
     "text": [
      "마지막으로 물어보신 영화 제목은 \"슬램덩크\"였습니다."
     ]
    },
    {
     "data": {
      "text/plain": [
       "AIMessageChunk(content='마지막으로 물어보신 영화 제목은 \"슬램덩크\"였습니다.')"
      ]
     },
     "execution_count": 16,
     "metadata": {},
     "output_type": "execute_result"
    }
   ],
   "source": [
    "chain.invoke({\"movie_name\": \"내가 마지막으로 물어본 영화 제목이 뭐였어?\"})"
   ]
  }
 ],
 "metadata": {
  "kernelspec": {
   "display_name": "env",
   "language": "python",
   "name": "python3"
  },
  "language_info": {
   "codemirror_mode": {
    "name": "ipython",
    "version": 3
   },
   "file_extension": ".py",
   "mimetype": "text/x-python",
   "name": "python",
   "nbconvert_exporter": "python",
   "pygments_lexer": "ipython3",
   "version": "3.11.13"
  }
 },
 "nbformat": 4,
 "nbformat_minor": 2
}
