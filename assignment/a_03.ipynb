{
 "cells": [
  {
   "cell_type": "code",
   "execution_count": 66,
   "id": "701ada54",
   "metadata": {},
   "outputs": [],
   "source": [
    "from langchain.chat_models import ChatOpenAI\n",
    "from langchain.memory import ConversationSummaryBufferMemory\n",
    "from langchain.prompts import ChatPromptTemplate, MessagesPlaceholder\n",
    "from langchain.prompts.few_shot import FewShotChatMessagePromptTemplate\n",
    "from langchain.schema.runnable import RunnablePassthrough\n",
    "\n",
    "llm = ChatOpenAI(temperature=0.1)\n",
    "memory = ConversationSummaryBufferMemory(\n",
    "\tllm=llm,\n",
    "\tmax_token_limit=150,\n",
    "\tmemory_key=\"chat\",\n",
    "\treturn_messages=True\n",
    ")\n",
    "\n",
    "examples = [\n",
    "\t{\n",
    "\t\t\"movie_name\": \"대부\",\n",
    "\t\t\"answer\": \"👨‍👨‍👦🔫🍝\"\n",
    "\t},\n",
    "\t{\n",
    "\t\t\"movie_name\": \"탑건\",\n",
    "\t\t\"answer\": \"🛩️👨‍✈️🔥\"\n",
    "\t},\n",
    "\t{\n",
    "\t\t\"movie_name\": \"캡틴아메리카: 더 윈터 솔져\",\n",
    "\t\t\"answer\": \"🇺🇸❄️💥\",\n",
    "\t},\n",
    "\t{\n",
    "\t\t\"movie_name\": \"슬램덩크\",\n",
    "\t\t\"answer\": \"🏀🔥🤯\",\n",
    "\t}\n",
    "]\n",
    "\n",
    "example_prompt = ChatPromptTemplate.from_messages([\n",
    "\t(\"human\", \"{movie_name}\"),\n",
    "\t(\"ai\", \"{answer}\"),\n",
    "])\n",
    "\n",
    "few_shot_prompt = FewShotChatMessagePromptTemplate(\n",
    "\texample_prompt=example_prompt,\n",
    "\texamples=examples,\n",
    ")\n",
    "\n",
    "prompt = ChatPromptTemplate.from_messages([\n",
    "\t(\"system\", \"당신은 훌륭한 영화 평론가입니다. 영화 제목을 들으면 단 세개의 이모티콘으로 영화를 표현할 수 있습니다.\"),\n",
    "\tMessagesPlaceholder(variable_name=\"chat\"),\n",
    "\tfew_shot_prompt,\n",
    "\t(\"human\", \"{movie_name}\"),\n",
    "])\n",
    "\n",
    "def load_memory(_):\n",
    "\treturn memory.load_memory_variables({})[\"chat\"]\n",
    "\n",
    "chain = RunnablePassthrough.assign(chat=load_memory) | prompt | llm\n",
    "\n",
    "def invoke_chain(movie_name):\n",
    "\tresult = chain.invoke({\"movie_name\": movie_name})\n",
    "\tmemory.save_context(\n",
    "\t\t{\"input\": movie_name},\n",
    "\t\t{\"output\": result.content},\n",
    "\t)\n",
    "\tprint(result.content)"
   ]
  },
  {
   "cell_type": "code",
   "execution_count": 67,
   "id": "3733b23e",
   "metadata": {},
   "outputs": [
    {
     "name": "stdout",
     "output_type": "stream",
     "text": [
      "🔥💧🌪️\n"
     ]
    }
   ],
   "source": [
    "invoke_chain(\"엘리멘탈\")"
   ]
  },
  {
   "cell_type": "code",
   "execution_count": 68,
   "id": "2b5f529d",
   "metadata": {},
   "outputs": [
    {
     "name": "stdout",
     "output_type": "stream",
     "text": [
      "🧠💥😂\n"
     ]
    }
   ],
   "source": [
    "invoke_chain(\"인사이드 아웃2\")"
   ]
  },
  {
   "cell_type": "code",
   "execution_count": 69,
   "id": "51709b68",
   "metadata": {},
   "outputs": [
    {
     "data": {
      "text/plain": [
       "[HumanMessage(content='엘리멘탈'),\n",
       " AIMessage(content='🔥💧🌪️'),\n",
       " HumanMessage(content='인사이드 아웃2'),\n",
       " AIMessage(content='🧠💥😂')]"
      ]
     },
     "execution_count": 69,
     "metadata": {},
     "output_type": "execute_result"
    }
   ],
   "source": [
    "memory.load_memory_variables({})[\"chat\"]"
   ]
  },
  {
   "cell_type": "code",
   "execution_count": 70,
   "id": "2b48e330",
   "metadata": {},
   "outputs": [
    {
     "name": "stdout",
     "output_type": "stream",
     "text": [
      "처음 질문하신 영화는 \"엘리멘탈\"입니다.\n"
     ]
    }
   ],
   "source": [
    "invoke_chain(\"내가 처음 질문한 영화의 제목은 무엇이지?\")"
   ]
  }
 ],
 "metadata": {
  "kernelspec": {
   "display_name": "env",
   "language": "python",
   "name": "python3"
  },
  "language_info": {
   "codemirror_mode": {
    "name": "ipython",
    "version": 3
   },
   "file_extension": ".py",
   "mimetype": "text/x-python",
   "name": "python",
   "nbconvert_exporter": "python",
   "pygments_lexer": "ipython3",
   "version": "3.11.13"
  }
 },
 "nbformat": 4,
 "nbformat_minor": 5
}
