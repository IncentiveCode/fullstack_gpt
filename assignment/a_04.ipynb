{
 "cells": [
  {
   "cell_type": "code",
   "execution_count": null,
   "id": "3625b3d1",
   "metadata": {},
   "outputs": [],
   "source": [
    "from langchain.chat_models import ChatOpenAI\n",
    "from langchain.document_loaders import UnstructuredFileLoader\n",
    "from langchain.embeddings import CacheBackedEmbeddings, OpenAIEmbeddings\n",
    "from langchain.memory import ConversationBufferMemory\n",
    "from langchain.prompts import ChatPromptTemplate\n",
    "from langchain.storage import LocalFileStore\n",
    "from langchain.text_splitter import CharacterTextSplitter\n",
    "from langchain.vectorstores import FAISS\n",
    "from langchain.schema.runnable import RunnableLambda, RunnablePassthrough\n",
    "\n",
    "llm = ChatOpenAI(\n",
    "\ttemperature=0.1,\n",
    ")\n",
    "\n",
    "memory = ConversationBufferMemory()\n",
    "\n",
    "cache_dir = LocalFileStore(\"../.cache/\")\n",
    "splitter = CharacterTextSplitter.from_tiktoken_encoder(\n",
    "\tseparator=\"\\n\",\n",
    "\tchunk_size=600,\n",
    "\tchunk_overlap=50,\n",
    ")\n",
    "loader = UnstructuredFileLoader(\"../files/chapter_three.txt\")\n",
    "docs = loader.load_and_split(text_splitter=splitter)\n",
    "embeddings = OpenAIEmbeddings()\n",
    "cached_embeddings = CacheBackedEmbeddings.from_bytes_store(embeddings, cache_dir)\n",
    "vector_store = FAISS.from_documents(docs, cached_embeddings)\n",
    "retriever = vector_store.as_retriever()\n",
    "\n",
    "\n",
    "### 문서를 처리하기 위한 프롬프트와 체인.\n",
    "map_doc_prompt = ChatPromptTemplate.from_messages([\n",
    "\t(\n",
    "\t\t\"system\",\n",
    "\t\t\"\"\"\n",
    "\t\t아래의 매우 긴 문서에서 질문에 대한 응답과 관련된 부분을 추출합니다.\n",
    "\t\t만약 관련있는 문장이 없다면, '' 를 리턴하세요.\n",
    "\t\t------\n",
    "\t\t{context}\t\n",
    "\t\t\"\"\"\n",
    "\t),\n",
    "\t(\n",
    "\t\t\"human\",\n",
    "\t\t\"{question}\"\n",
    "\t),\n",
    "])\n",
    "map_doc_chain = map_doc_prompt | llm\n",
    "\n",
    "def map_docs(inputs):\n",
    "\tdocuments = inputs[\"documents\"]\n",
    "\tquestion = inputs[\"question\"]\n",
    "\n",
    "\treturn \"\\n\\n\".join(\n",
    "\t\tmap_doc_chain.invoke({\n",
    "\t\t\t\"context\": doc.page_content,\n",
    "\t\t\t\"question\": question\n",
    "\t\t}).content\n",
    "\t\tfor doc in documents\n",
    "\t)\n",
    "\n",
    "map_chain = { \"documents\": retriever, \"question\": RunnablePassthrough() } | RunnableLambda(map_docs)\n",
    "\n",
    "\n",
    "### 요약 정리된 문서에서 질문을 처리하는 프롬프트와 체인\n",
    "final_prompt = ChatPromptTemplate.from_messages([\n",
    "\t(\n",
    "\t\t\"system\",\n",
    "\t\t\"\"\"\n",
    "\t\t아래의 요약 정리된 문서를 참고해서 응답을 작성합니다.\n",
    "\t\t만약 답을 모르겠다면 모르겠다고 응답합니다.\n",
    "\t\t억지로 만들어내지 마세요.\n",
    "\t\t------\n",
    "\t\t{context}\n",
    "\t\t\"\"\"\n",
    "\t),\n",
    "\t(\n",
    "\t\t\"human\",\n",
    "\t\t\"{question}\"\n",
    "\t),\n",
    "])\n",
    "chain = { \"context\": map_chain, \"question\": RunnablePassthrough() } | final_prompt | llm\n",
    "\n",
    "def invoke_chain(question):\n",
    "\tresult = chain.invoke(question)\n",
    "\tmemory.save_context(\n",
    "\t\t{\"input\": question},\n",
    "\t\t{\"output\": result.content}\n",
    "\t)\n",
    "\tprint(result.content)\n"
   ]
  },
  {
   "cell_type": "code",
   "execution_count": null,
   "id": "82265800",
   "metadata": {},
   "outputs": [
    {
     "name": "stdout",
     "output_type": "stream",
     "text": [
      "아론슨이 유죄인지에 대한 정보는 제공되지 않았습니다. 위의 문서에서는 아론슨에 대한 언급이 없습니다.\n"
     ]
    }
   ],
   "source": [
    "invoke_chain(\"Aaronson 은 유죄인가요?\")"
   ]
  },
  {
   "cell_type": "code",
   "execution_count": 19,
   "id": "27e902b8",
   "metadata": {},
   "outputs": [
    {
     "name": "stdout",
     "output_type": "stream",
     "text": [
      "그가 테이블에 어떤 메시지를 썼다는 내용은 문서에서 언급되지 않았습니다.\n"
     ]
    }
   ],
   "source": [
    "invoke_chain(\"그가 테이블에 어떤 메시지를 썼나요?\")"
   ]
  },
  {
   "cell_type": "code",
   "execution_count": 20,
   "id": "1bb31a27",
   "metadata": {},
   "outputs": [
    {
     "name": "stdout",
     "output_type": "stream",
     "text": [
      "Julia는 주인공인 Winston와 함께 등장하는 여성 캐릭터로, Winston과 사랑에 빠지는 캐릭터입니다. Winston가 절망 속에서 자신을 대신해 고통을 받아줄 수 있는 유일한 사람으로 Julia를 지칭하며 강한 감정을 느낍니다.\n"
     ]
    }
   ],
   "source": [
    "invoke_chain(\"Julia 는 누구인가요?\")"
   ]
  },
  {
   "cell_type": "code",
   "execution_count": 21,
   "id": "73740342",
   "metadata": {},
   "outputs": [
    {
     "data": {
      "text/plain": [
       "'Human: Aaronson 은 유죄인가요?\\nAI: 아론슨이 유죄인지에 대한 정보는 제공되지 않았습니다. 위의 문서에서는 아론슨에 대한 언급이 없습니다.\\nHuman: 그가 테이블에 어떤 메시지를 썼나요?\\nAI: 그가 테이블에 어떤 메시지를 썼다는 내용은 문서에서 언급되지 않았습니다.\\nHuman: Julia 는 누구인가요?\\nAI: Julia는 주인공인 Winston와 함께 등장하는 여성 캐릭터로, Winston과 사랑에 빠지는 캐릭터입니다. Winston가 절망 속에서 자신을 대신해 고통을 받아줄 수 있는 유일한 사람으로 Julia를 지칭하며 강한 감정을 느낍니다.'"
      ]
     },
     "execution_count": 21,
     "metadata": {},
     "output_type": "execute_result"
    }
   ],
   "source": [
    "memory.load_memory_variables({})['history']"
   ]
  }
 ],
 "metadata": {
  "kernelspec": {
   "display_name": "env",
   "language": "python",
   "name": "python3"
  },
  "language_info": {
   "codemirror_mode": {
    "name": "ipython",
    "version": 3
   },
   "file_extension": ".py",
   "mimetype": "text/x-python",
   "name": "python",
   "nbconvert_exporter": "python",
   "pygments_lexer": "ipython3",
   "version": "3.11.13"
  }
 },
 "nbformat": 4,
 "nbformat_minor": 5
}
