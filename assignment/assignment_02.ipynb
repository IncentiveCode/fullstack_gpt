{
 "cells": [
  {
   "cell_type": "code",
   "execution_count": 1,
   "metadata": {},
   "outputs": [
    {
     "name": "stdout",
     "output_type": "stream",
     "text": [
      "\n",
      "\t\t이 영화의 간략한 정보는 다음과 같습니다:\n",
      "\t\t감독 : 조 루소, 안소니 루소\n",
      "\t\t주요 출연진 : 로버트 다우니 주니어, 크리스 에반스, 크리스 헴스워스, 마크 러팔로, 스칼렛 요한슨, 제레미 레너, 폴 러드, 조 샐다나, 브리 라슨, 조슈 브롤린\n",
      "\t\t예산 : 3억 5,000만 달러\n",
      "\t\t흥행 수익 : 27억 8,000만 2,223달러\n",
      "\t\t장르 : 슈퍼히어로, SF, 액션, 어드벤처, 판타지\n",
      "\t\t시놉시스 : 타노스의 손에서 인피니티 건틀렛을 되찾기 위해 어벤져스는 시간을 넘나들며 지구의 운명을 바꿀 최후의 전투에 나선다. 모든 것이 끝나는 최후의 게임, 어벤져스의 최후의 전쟁이 시작된다.\n",
      "\t\t"
     ]
    },
    {
     "data": {
      "text/plain": [
       "AIMessageChunk(content='\\n\\t\\t이 영화의 간략한 정보는 다음과 같습니다:\\n\\t\\t감독 : 조 루소, 안소니 루소\\n\\t\\t주요 출연진 : 로버트 다우니 주니어, 크리스 에반스, 크리스 헴스워스, 마크 러팔로, 스칼렛 요한슨, 제레미 레너, 폴 러드, 조 샐다나, 브리 라슨, 조슈 브롤린\\n\\t\\t예산 : 3억 5,000만 달러\\n\\t\\t흥행 수익 : 27억 8,000만 2,223달러\\n\\t\\t장르 : 슈퍼히어로, SF, 액션, 어드벤처, 판타지\\n\\t\\t시놉시스 : 타노스의 손에서 인피니티 건틀렛을 되찾기 위해 어벤져스는 시간을 넘나들며 지구의 운명을 바꿀 최후의 전투에 나선다. 모든 것이 끝나는 최후의 게임, 어벤져스의 최후의 전쟁이 시작된다.\\n\\t\\t')"
      ]
     },
     "execution_count": 1,
     "metadata": {},
     "output_type": "execute_result"
    }
   ],
   "source": [
    "from langchain.chat_models import ChatOpenAI\n",
    "from langchain.prompts import ChatPromptTemplate\n",
    "from langchain.prompts.few_shot import FewShotChatMessagePromptTemplate\n",
    "from langchain.callbacks import StreamingStdOutCallbackHandler\n",
    "\n",
    "chat = ChatOpenAI(\n",
    "\ttemperature=0.1,\n",
    "\tstreaming=True,\n",
    "\tcallbacks=[\n",
    "\t\tStreamingStdOutCallbackHandler()\n",
    "\t]\n",
    ")\n",
    "\n",
    "examples = [\n",
    "\t{\n",
    "\t\t\"movie_name\": \"캡틴아메리카: 더 윈터 솔져\",\n",
    "\t\t\"answer\": \"\"\" \n",
    "\t\t이 영화의 간략한 정보는 다음과 같습니다:\n",
    "\t\t감독 : 조 루소, 안소니 루소\n",
    "\t\t주요 출연진 : 크리스 에반스, 스칼렛 요한슨, 사무엘 L. 잭슨, 로버트 레드포드\n",
    "\t\t예산 : 1억 7,000만 달러\n",
    "\t\t흥행 수익 : 7억 1,442만 1,503달러\n",
    "\t\t장르 : 슈퍼히어로, SF, 액션, 어드벤처, 첩보\n",
    "\t\t시놉시스 : 어벤져스의 뉴욕 사건 이후 닉 퓨리, 블랙 위도우와 함께 쉴드의 멤버로 현대 생활에 적응해 살아가는 캡틴 아메리카. 어느 날, 죽은 줄 알았던 친구 버키가 적 윈터 솔져가 되어 돌아오고, 어벤져스를 향한 최악의 위기가 시작된다.\n",
    "\t\t\"\"\"\n",
    "\t}, \n",
    "\t{\n",
    "\t\t\"movie_name\": \"가디언즈 오브 갤럭시: Volume 3\",\n",
    "\t\t\"answer\": \"\"\" \n",
    "\t\t이 영화의 간략한 정보는 다음과 같습니다:\n",
    "\t\t감독 : 제임스 건\n",
    "\t\t주요 출연진 : 크리스 프랫, 조 샐다나, 데이브 바티스타, 카렌 길런, 폼 클레멘티에프, 빈 디젤, 브래들리 쿠퍼, 윌 폴터\n",
    "\t\t예산 : 2억 5,000만 달러\n",
    "\t\t흥행 수익 : 8억 4,547만 2,421달러\n",
    "\t\t장르 : 슈퍼히어로, SF, 액션, 코미디, 어드벤처\n",
    "\t\t시놉시스 : ‘가모라’를 잃고 슬픔에 빠져 있던 ‘피터 퀼’이 위기에 처한 은하계와 동료를 지키기 위해 다시 한번 가디언즈 팀과 힘을 모으고, 성공하지 못할 경우 그들의 마지막이 될지도 모르는 미션에 나서는 이야기.\n",
    "\t\t\"\"\"\n",
    "\t}, \n",
    "\t{\n",
    "\t\t\"movie_name\": \"어벤져스: 인피니티 워\",\n",
    "\t\t\"answer\": \"\"\" \n",
    "\t\t이 영화의 간략한 정보는 다음과 같습니다:\n",
    "\t\t감독 : 조 루소, 안소니 루소\n",
    "\t\t주요 출연진 : 로버트 다우니 주니어, 크리스 에반스, 크리스 헴스워스, 마크 러팔로, 톰 히들스턴, 스칼렛 요한슨, 엘리자베스 올슨, 크리스 프랫, 그 외 다수\n",
    "\t\t예산 : 3억 2,500만 달러\n",
    "\t\t흥행 수익 : 20억 4,835만 9,754달러\n",
    "\t\t장르 : 슈퍼히어로, SF, 액션, 어드벤처, 판타지\n",
    "\t\t시놉시스 : 새로운 조합을 이룬 어벤져스, 역대 최강 빌런 타노스에 맞서 세계의 운명이 걸린 인피니티 스톤을 향한 무한 대결이 펼쳐진다!\n",
    "\t\t\"\"\"\n",
    "\t},\n",
    "]\n",
    "\n",
    "example_prompt = ChatPromptTemplate.from_messages([\n",
    "\t(\n",
    "\t\t\"human\",\n",
    "\t\t\"{movie_name} 에 대해서 알고 있니?\" \n",
    "\t),\n",
    "\t(\n",
    "\t\t\"ai\",\n",
    "\t\t\"{answer}\"\n",
    "\t),\n",
    "])\n",
    "\n",
    "prompt = FewShotChatMessagePromptTemplate(\n",
    "\texample_prompt=example_prompt,\n",
    "\texamples=examples\n",
    ")\n",
    "\n",
    "final_prompt = ChatPromptTemplate.from_messages([\n",
    "\t(\n",
    "\t\t\"system\",\n",
    "\t\t\"당신은 훌륭한 영화 평론가입니다. 영화에 대해 박학다식하며, 어떤 영화를 보든 깔끔한 한 줄 평을 남길 수 있습니다.\"\n",
    "\t),\n",
    "\tprompt,\n",
    "\t(\n",
    "\t\t\"human\",\n",
    "\t\t\"{movie_name}에 대해 알고 있니?\"\n",
    "\t),\n",
    "])\n",
    "\n",
    "chain = final_prompt | chat\n",
    "chain.invoke(\n",
    "\t{\n",
    "\t\t\"movie_name\": \"어벤져스: 앤드게임\" \n",
    "\t}\n",
    ")"
   ]
  }
 ],
 "metadata": {
  "kernelspec": {
   "display_name": "env",
   "language": "python",
   "name": "python3"
  },
  "language_info": {
   "codemirror_mode": {
    "name": "ipython",
    "version": 3
   },
   "file_extension": ".py",
   "mimetype": "text/x-python",
   "name": "python",
   "nbconvert_exporter": "python",
   "pygments_lexer": "ipython3",
   "version": "3.11.11"
  }
 },
 "nbformat": 4,
 "nbformat_minor": 2
}
